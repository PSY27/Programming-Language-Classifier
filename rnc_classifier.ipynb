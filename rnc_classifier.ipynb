{
  "nbformat": 4,
  "nbformat_minor": 0,
  "metadata": {
    "colab": {
      "name": "rnc_classifier.ipynb",
      "provenance": [],
      "include_colab_link": true
    },
    "kernelspec": {
      "name": "python3",
      "display_name": "Python 3"
    },
    "language_info": {
      "name": "python"
    }
  },
  "cells": [
    {
      "cell_type": "markdown",
      "metadata": {
        "id": "view-in-github",
        "colab_type": "text"
      },
      "source": [
        "<a href=\"https://colab.research.google.com/github/AmanPriyanshu/Programming-Language-Classifier/blob/main/rnc_classifier.ipynb\" target=\"_parent\"><img src=\"https://colab.research.google.com/assets/colab-badge.svg\" alt=\"Open In Colab\"/></a>"
      ]
    },
    {
      "cell_type": "code",
      "metadata": {
        "colab": {
          "base_uri": "https://localhost:8080/"
        },
        "id": "uNdmVdAYcEVQ",
        "outputId": "8e12a693-0038-47c6-fd82-38729e24e1f4"
      },
      "source": [
        "!git clone https://github.com/onosyoono/Programming-Language-Classifier.git"
      ],
      "execution_count": 1,
      "outputs": [
        {
          "output_type": "stream",
          "name": "stdout",
          "text": [
            "fatal: destination path 'Programming-Language-Classifier' already exists and is not an empty directory.\n"
          ]
        }
      ]
    },
    {
      "cell_type": "code",
      "metadata": {
        "colab": {
          "base_uri": "https://localhost:8080/"
        },
        "id": "LYvRiWJBcWoe",
        "outputId": "88d1a830-03d2-4b47-90ef-bb9a2aa89b1b"
      },
      "source": [
        "!ls"
      ],
      "execution_count": 2,
      "outputs": [
        {
          "output_type": "stream",
          "name": "stdout",
          "text": [
            "Programming-Language-Classifier  sample_data\n"
          ]
        }
      ]
    },
    {
      "cell_type": "markdown",
      "metadata": {
        "id": "3vY0xEG6csa3"
      },
      "source": [
        "## Imports:"
      ]
    },
    {
      "cell_type": "code",
      "metadata": {
        "id": "Qd6ZgEYlcctC"
      },
      "source": [
        "import numpy as np\n",
        "import pandas as pd\n",
        "from sklearn.feature_extraction.text import CountVectorizer\n",
        "from sklearn.neighbors import RadiusNeighborsClassifier"
      ],
      "execution_count": 3,
      "outputs": []
    },
    {
      "cell_type": "markdown",
      "metadata": {
        "id": "DSTpDrJxcq9L"
      },
      "source": [
        "## Loading:"
      ]
    },
    {
      "cell_type": "code",
      "metadata": {
        "colab": {
          "base_uri": "https://localhost:8080/",
          "height": 206
        },
        "id": "9RZecfN8cIH3",
        "outputId": "b84425c1-b10c-4a3a-954f-7383d4501a9c"
      },
      "source": [
        "df = pd.read_csv(\"./Programming-Language-Classifier/dataset.csv\")\n",
        "df.head()"
      ],
      "execution_count": 4,
      "outputs": [
        {
          "output_type": "execute_result",
          "data": {
            "text/html": [
              "<div>\n",
              "<style scoped>\n",
              "    .dataframe tbody tr th:only-of-type {\n",
              "        vertical-align: middle;\n",
              "    }\n",
              "\n",
              "    .dataframe tbody tr th {\n",
              "        vertical-align: top;\n",
              "    }\n",
              "\n",
              "    .dataframe thead th {\n",
              "        text-align: right;\n",
              "    }\n",
              "</style>\n",
              "<table border=\"1\" class=\"dataframe\">\n",
              "  <thead>\n",
              "    <tr style=\"text-align: right;\">\n",
              "      <th></th>\n",
              "      <th>data</th>\n",
              "      <th>labels</th>\n",
              "    </tr>\n",
              "  </thead>\n",
              "  <tbody>\n",
              "    <tr>\n",
              "      <th>0</th>\n",
              "      <td>#include &lt;stdio.h&gt;\\n #include &lt;stdbool.h&gt;\\n \\n...</td>\n",
              "      <td>C</td>\n",
              "    </tr>\n",
              "    <tr>\n",
              "      <th>1</th>\n",
              "      <td>// Checking Palindrome number with Recursion\\n...</td>\n",
              "      <td>Java</td>\n",
              "    </tr>\n",
              "    <tr>\n",
              "      <th>2</th>\n",
              "      <td>/*\\n A program to find Greatest Common Divisor...</td>\n",
              "      <td>JavaScript</td>\n",
              "    </tr>\n",
              "    <tr>\n",
              "      <th>3</th>\n",
              "      <td>/* This algorithm will print the next greater ...</td>\n",
              "      <td>C-Plus-Plus</td>\n",
              "    </tr>\n",
              "    <tr>\n",
              "      <th>4</th>\n",
              "      <td>'''\\n Aim: To perform level-order traversal on...</td>\n",
              "      <td>Python</td>\n",
              "    </tr>\n",
              "  </tbody>\n",
              "</table>\n",
              "</div>"
            ],
            "text/plain": [
              "                                                data       labels\n",
              "0  #include <stdio.h>\\n #include <stdbool.h>\\n \\n...            C\n",
              "1  // Checking Palindrome number with Recursion\\n...         Java\n",
              "2  /*\\n A program to find Greatest Common Divisor...   JavaScript\n",
              "3  /* This algorithm will print the next greater ...  C-Plus-Plus\n",
              "4  '''\\n Aim: To perform level-order traversal on...       Python"
            ]
          },
          "metadata": {},
          "execution_count": 4
        }
      ]
    },
    {
      "cell_type": "code",
      "metadata": {
        "id": "rs37NR0FdO6U"
      },
      "source": [
        "df = df.values"
      ],
      "execution_count": 5,
      "outputs": []
    },
    {
      "cell_type": "code",
      "metadata": {
        "id": "z4ndVpsNdQax"
      },
      "source": [
        "X, Y = df.T[0], df.T[1]"
      ],
      "execution_count": 6,
      "outputs": []
    },
    {
      "cell_type": "markdown",
      "metadata": {
        "id": "CvyifHhtcuLJ"
      },
      "source": [
        "## Vectorizing:"
      ]
    },
    {
      "cell_type": "code",
      "metadata": {
        "colab": {
          "base_uri": "https://localhost:8080/"
        },
        "id": "gUsDGyINca-b",
        "outputId": "237693ed-1e6a-4693-df8f-1a9fdeb12405"
      },
      "source": [
        "vectorizer = CountVectorizer()\n",
        "X_vec = vectorizer.fit_transform(X)\n",
        "X_vec = X_vec.toarray()\n",
        "print(X_vec.shape)"
      ],
      "execution_count": 7,
      "outputs": [
        {
          "output_type": "stream",
          "name": "stdout",
          "text": [
            "(1933, 10916)\n"
          ]
        }
      ]
    },
    {
      "cell_type": "code",
      "metadata": {
        "colab": {
          "base_uri": "https://localhost:8080/"
        },
        "id": "MnidAE3PdWDn",
        "outputId": "90a54153-a7b0-4305-fd97-63928bca53ff"
      },
      "source": [
        "print(\"Dic Size:\", len(vectorizer.get_feature_names()))"
      ],
      "execution_count": 8,
      "outputs": [
        {
          "output_type": "stream",
          "name": "stdout",
          "text": [
            "Dic Size: 10916\n"
          ]
        }
      ]
    },
    {
      "cell_type": "markdown",
      "metadata": {
        "id": "MAmCj-XWeWJu"
      },
      "source": [
        "## Presenting A Decision Tree Classifier:"
      ]
    },
    {
      "cell_type": "code",
      "metadata": {
        "colab": {
          "base_uri": "https://localhost:8080/"
        },
        "id": "529RtvJ8diLb",
        "outputId": "c148a813-13cb-4e03-c55d-89852fcfe419"
      },
      "source": [
        "clf = RadiusNeighborsClassifier(radius=1.0, outlier_label=-1)\n",
        "labels = [i for i in np.unique(Y)]\n",
        "Y = [labels.index(i) for i in Y]\n",
        "clf.fit(X_vec, Y)"
      ],
      "execution_count": 9,
      "outputs": [
        {
          "output_type": "execute_result",
          "data": {
            "text/plain": [
              "RadiusNeighborsClassifier(algorithm='auto', leaf_size=30, metric='minkowski',\n",
              "                          metric_params=None, n_jobs=None, outlier_label=-1,\n",
              "                          p=2, radius=1.0, weights='uniform')"
            ]
          },
          "metadata": {},
          "execution_count": 9
        }
      ]
    },
    {
      "cell_type": "markdown",
      "metadata": {
        "id": "ftU0mtYHeZ-b"
      },
      "source": [
        "## Measuring Performance:"
      ]
    },
    {
      "cell_type": "markdown",
      "metadata": {
        "id": "zymqGb8beoE8"
      },
      "source": [
        "### Training:"
      ]
    },
    {
      "cell_type": "code",
      "metadata": {
        "colab": {
          "base_uri": "https://localhost:8080/"
        },
        "id": "B6xydOEUengp",
        "outputId": "4c21bc2d-7a4b-4e93-ef60-eb2cdeb16b88"
      },
      "source": [
        "clf.score(X_vec[:int(0.8*len(Y))], Y[:int(0.8*len(Y))])"
      ],
      "execution_count": 10,
      "outputs": [
        {
          "output_type": "execute_result",
          "data": {
            "text/plain": [
              "0.999353169469599"
            ]
          },
          "metadata": {},
          "execution_count": 10
        }
      ]
    },
    {
      "cell_type": "markdown",
      "metadata": {
        "id": "YVNf-GAXetxM"
      },
      "source": [
        "### Validation:"
      ]
    },
    {
      "cell_type": "code",
      "metadata": {
        "colab": {
          "base_uri": "https://localhost:8080/"
        },
        "id": "_1lnVf7leK6x",
        "outputId": "f4b80c4f-dd0e-487f-c4f0-bf27357db9d5"
      },
      "source": [
        "clf.score(X_vec[int(0.8*len(Y)):], Y[int(0.8*len(Y)):])"
      ],
      "execution_count": 11,
      "outputs": [
        {
          "output_type": "execute_result",
          "data": {
            "text/plain": [
              "1.0"
            ]
          },
          "metadata": {},
          "execution_count": 11
        }
      ]
    }
  ]
}