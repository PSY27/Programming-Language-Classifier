{
  "nbformat": 4,
  "nbformat_minor": 0,
  "metadata": {
    "colab": {
      "name": "svm_model.ipynb",
      "provenance": [],
      "collapsed_sections": []
    },
    "kernelspec": {
      "name": "python3",
      "display_name": "Python 3"
    },
    "language_info": {
      "name": "python"
    }
  },
  "cells": [
    {
      "cell_type": "code",
      "metadata": {
        "colab": {
          "base_uri": "https://localhost:8080/"
        },
        "id": "PQZ77L5hy25G",
        "outputId": "5fb9c30a-1262-4dcc-aba5-6580acf76a88"
      },
      "source": [
        "!git clone https://github.com/onosyoono/Programming-Language-Classifier.git"
      ],
      "execution_count": 1,
      "outputs": [
        {
          "output_type": "stream",
          "name": "stdout",
          "text": [
            "Cloning into 'Programming-Language-Classifier'...\n",
            "remote: Enumerating objects: 34, done.\u001b[K\n",
            "remote: Counting objects: 100% (34/34), done.\u001b[K\n",
            "remote: Compressing objects: 100% (34/34), done.\u001b[K\n",
            "remote: Total 34 (delta 12), reused 0 (delta 0), pack-reused 0\u001b[K\n",
            "Unpacking objects: 100% (34/34), done.\n"
          ]
        }
      ]
    },
    {
      "cell_type": "code",
      "metadata": {
        "colab": {
          "base_uri": "https://localhost:8080/"
        },
        "id": "8xvJcHmEy3rt",
        "outputId": "697c2ef0-7b82-48c8-9779-c56af2f1ae89"
      },
      "source": [
        "!ls"
      ],
      "execution_count": 2,
      "outputs": [
        {
          "output_type": "stream",
          "name": "stdout",
          "text": [
            "Programming-Language-Classifier  sample_data\n"
          ]
        }
      ]
    },
    {
      "cell_type": "markdown",
      "metadata": {
        "id": "kOhIFyIQzlbZ"
      },
      "source": [
        "## **Imports**"
      ]
    },
    {
      "cell_type": "code",
      "metadata": {
        "id": "v81_7NRIy8k7"
      },
      "source": [
        "import numpy as np\n",
        "import pandas as pd\n",
        "from sklearn.feature_extraction.text import CountVectorizer\n",
        "from sklearn.svm import SVC"
      ],
      "execution_count": 3,
      "outputs": []
    },
    {
      "cell_type": "markdown",
      "metadata": {
        "id": "-JhQ881nz9D3"
      },
      "source": [
        "### **Loading**"
      ]
    },
    {
      "cell_type": "code",
      "metadata": {
        "colab": {
          "base_uri": "https://localhost:8080/",
          "height": 206
        },
        "id": "1E_j6xNVy_O8",
        "outputId": "b7755fb6-9bb0-43d5-fe5d-0d72c86cf66e"
      },
      "source": [
        "df = pd.read_csv(\"./Programming-Language-Classifier/dataset.csv\")\n",
        "df.head()"
      ],
      "execution_count": 4,
      "outputs": [
        {
          "output_type": "execute_result",
          "data": {
            "text/html": [
              "<div>\n",
              "<style scoped>\n",
              "    .dataframe tbody tr th:only-of-type {\n",
              "        vertical-align: middle;\n",
              "    }\n",
              "\n",
              "    .dataframe tbody tr th {\n",
              "        vertical-align: top;\n",
              "    }\n",
              "\n",
              "    .dataframe thead th {\n",
              "        text-align: right;\n",
              "    }\n",
              "</style>\n",
              "<table border=\"1\" class=\"dataframe\">\n",
              "  <thead>\n",
              "    <tr style=\"text-align: right;\">\n",
              "      <th></th>\n",
              "      <th>data</th>\n",
              "      <th>labels</th>\n",
              "    </tr>\n",
              "  </thead>\n",
              "  <tbody>\n",
              "    <tr>\n",
              "      <th>0</th>\n",
              "      <td>#include &lt;stdio.h&gt;\\n #include &lt;stdbool.h&gt;\\n \\n...</td>\n",
              "      <td>C</td>\n",
              "    </tr>\n",
              "    <tr>\n",
              "      <th>1</th>\n",
              "      <td>// Checking Palindrome number with Recursion\\n...</td>\n",
              "      <td>Java</td>\n",
              "    </tr>\n",
              "    <tr>\n",
              "      <th>2</th>\n",
              "      <td>/*\\n A program to find Greatest Common Divisor...</td>\n",
              "      <td>JavaScript</td>\n",
              "    </tr>\n",
              "    <tr>\n",
              "      <th>3</th>\n",
              "      <td>/* This algorithm will print the next greater ...</td>\n",
              "      <td>C-Plus-Plus</td>\n",
              "    </tr>\n",
              "    <tr>\n",
              "      <th>4</th>\n",
              "      <td>'''\\n Aim: To perform level-order traversal on...</td>\n",
              "      <td>Python</td>\n",
              "    </tr>\n",
              "  </tbody>\n",
              "</table>\n",
              "</div>"
            ],
            "text/plain": [
              "                                                data       labels\n",
              "0  #include <stdio.h>\\n #include <stdbool.h>\\n \\n...            C\n",
              "1  // Checking Palindrome number with Recursion\\n...         Java\n",
              "2  /*\\n A program to find Greatest Common Divisor...   JavaScript\n",
              "3  /* This algorithm will print the next greater ...  C-Plus-Plus\n",
              "4  '''\\n Aim: To perform level-order traversal on...       Python"
            ]
          },
          "metadata": {},
          "execution_count": 4
        }
      ]
    },
    {
      "cell_type": "code",
      "metadata": {
        "id": "kDyPLeCIzCbq"
      },
      "source": [
        "df = df.values"
      ],
      "execution_count": 5,
      "outputs": []
    },
    {
      "cell_type": "code",
      "metadata": {
        "id": "WylKrjPwzEc7"
      },
      "source": [
        "X, Y = df.T[0], df.T[1]"
      ],
      "execution_count": 6,
      "outputs": []
    },
    {
      "cell_type": "markdown",
      "metadata": {
        "id": "QUDu3j870CXn"
      },
      "source": [
        "## Vectorizing"
      ]
    },
    {
      "cell_type": "code",
      "metadata": {
        "colab": {
          "base_uri": "https://localhost:8080/"
        },
        "id": "tXpsRwtizHjr",
        "outputId": "30270723-b5e0-491b-8f24-439144d7ed81"
      },
      "source": [
        "vectorizer = CountVectorizer()\n",
        "X_vec = vectorizer.fit_transform(X)\n",
        "X_vec = X_vec.toarray()\n",
        "print(X_vec.shape)"
      ],
      "execution_count": 7,
      "outputs": [
        {
          "output_type": "stream",
          "name": "stdout",
          "text": [
            "(1933, 10916)\n"
          ]
        }
      ]
    },
    {
      "cell_type": "code",
      "metadata": {
        "colab": {
          "base_uri": "https://localhost:8080/"
        },
        "id": "CRPnvAStzQak",
        "outputId": "b3bd3527-c6cf-41c7-9172-3f3998f99a0a"
      },
      "source": [
        "print(\"Dic Size:\", len(vectorizer.get_feature_names()))"
      ],
      "execution_count": 8,
      "outputs": [
        {
          "output_type": "stream",
          "name": "stdout",
          "text": [
            "Dic Size: 10916\n"
          ]
        }
      ]
    },
    {
      "cell_type": "markdown",
      "metadata": {
        "id": "sQ23qXEy0JRe"
      },
      "source": [
        "## Presenting A Random Forest Classifier:"
      ]
    },
    {
      "cell_type": "code",
      "metadata": {
        "colab": {
          "base_uri": "https://localhost:8080/"
        },
        "id": "owsqrKOQzSUE",
        "outputId": "c0565f4a-dd4d-463f-ba3e-46de2a433b2c"
      },
      "source": [
        "svm = SVC()\n",
        "svm.fit(X_vec[:int(0.8*len(Y))], Y[:int(0.8*len(Y))])"
      ],
      "execution_count": 9,
      "outputs": [
        {
          "output_type": "execute_result",
          "data": {
            "text/plain": [
              "SVC(C=1.0, break_ties=False, cache_size=200, class_weight=None, coef0=0.0,\n",
              "    decision_function_shape='ovr', degree=3, gamma='scale', kernel='rbf',\n",
              "    max_iter=-1, probability=False, random_state=None, shrinking=True,\n",
              "    tol=0.001, verbose=False)"
            ]
          },
          "metadata": {},
          "execution_count": 9
        }
      ]
    },
    {
      "cell_type": "markdown",
      "metadata": {
        "id": "94tf9UME0PS4"
      },
      "source": [
        "## Measuring Performance:"
      ]
    },
    {
      "cell_type": "markdown",
      "metadata": {
        "id": "svr_oNbm0QXS"
      },
      "source": [
        "### Training:"
      ]
    },
    {
      "cell_type": "code",
      "metadata": {
        "colab": {
          "base_uri": "https://localhost:8080/"
        },
        "id": "zVHTubg0zUZj",
        "outputId": "49ba46d3-123d-4b78-b7b9-2b8643826a24"
      },
      "source": [
        "svm.score(X_vec[:int(0.8*len(Y))], Y[:int(0.8*len(Y))])\n"
      ],
      "execution_count": 10,
      "outputs": [
        {
          "output_type": "execute_result",
          "data": {
            "text/plain": [
              "0.9767141009055628"
            ]
          },
          "metadata": {},
          "execution_count": 10
        }
      ]
    },
    {
      "cell_type": "markdown",
      "metadata": {
        "id": "itmVhPkB0VA-"
      },
      "source": [
        "### Validation:"
      ]
    },
    {
      "cell_type": "code",
      "metadata": {
        "colab": {
          "base_uri": "https://localhost:8080/"
        },
        "id": "GjwAkkZkzWud",
        "outputId": "a8959e53-b191-49cb-e26b-0c322e501023"
      },
      "source": [
        "svm.score(X_vec[int(0.8*len(Y)):], Y[int(0.8*len(Y)):])"
      ],
      "execution_count": 11,
      "outputs": [
        {
          "output_type": "execute_result",
          "data": {
            "text/plain": [
              "0.9069767441860465"
            ]
          },
          "metadata": {},
          "execution_count": 11
        }
      ]
    },
    {
      "cell_type": "code",
      "metadata": {
        "id": "FjrnlppR2K09"
      },
      "source": [
        ""
      ],
      "execution_count": null,
      "outputs": []
    }
  ]
}