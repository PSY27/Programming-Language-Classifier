{
  "nbformat": 4,
  "nbformat_minor": 0,
  "metadata": {
    "colab": {
      "name": "knn-classifier.ipynb",
      "provenance": []
    },
    "kernelspec": {
      "name": "python3",
      "display_name": "Python 3"
    },
    "language_info": {
      "name": "python"
    }
  },
  "cells": [
    {
      "cell_type": "code",
      "metadata": {
        "colab": {
          "base_uri": "https://localhost:8080/"
        },
        "id": "MBZ61NLJXKLY",
        "outputId": "c44c17fe-b150-4c92-edb1-b9e57e9c1b8e"
      },
      "source": [
        "!git clone https://github.com/onosyoono/Programming-Language-Classifier.git"
      ],
      "execution_count": 3,
      "outputs": [
        {
          "output_type": "stream",
          "name": "stdout",
          "text": [
            "Cloning into 'Programming-Language-Classifier'...\n",
            "remote: Enumerating objects: 43, done.\u001b[K\n",
            "remote: Counting objects: 100% (43/43), done.\u001b[K\n",
            "remote: Compressing objects: 100% (42/42), done.\u001b[K\n",
            "remote: Total 43 (delta 17), reused 2 (delta 1), pack-reused 0\u001b[K\n",
            "Unpacking objects: 100% (43/43), done.\n"
          ]
        }
      ]
    },
    {
      "cell_type": "code",
      "metadata": {
        "id": "ipBqMraZXXEl",
        "colab": {
          "base_uri": "https://localhost:8080/"
        },
        "outputId": "116c4b9e-571c-44bb-d22f-7d9e41283e2a"
      },
      "source": [
        "!ls"
      ],
      "execution_count": 4,
      "outputs": [
        {
          "output_type": "stream",
          "name": "stdout",
          "text": [
            "drive  Programming-Language-Classifier\tsample_data\n"
          ]
        }
      ]
    },
    {
      "cell_type": "markdown",
      "metadata": {
        "id": "nQpj0gxPZ-D7"
      },
      "source": [
        "Imports"
      ]
    },
    {
      "cell_type": "code",
      "metadata": {
        "id": "b-yaOP9AYEZ4"
      },
      "source": [
        "import numpy as np\n",
        "import pandas as pd\n",
        "from sklearn.feature_extraction.text import CountVectorizer\n",
        "from sklearn.neighbors import KNeighborsClassifier"
      ],
      "execution_count": 5,
      "outputs": []
    },
    {
      "cell_type": "markdown",
      "metadata": {
        "id": "pujI5x9ma_da"
      },
      "source": [
        "Loading"
      ]
    },
    {
      "cell_type": "code",
      "metadata": {
        "colab": {
          "base_uri": "https://localhost:8080/",
          "height": 206
        },
        "id": "KIlIChcAa-aL",
        "outputId": "511785b5-c681-4c86-e280-398e382291c7"
      },
      "source": [
        "df = pd.read_csv(\"./Programming-Language-Classifier/dataset.csv\")\n",
        "df.head()"
      ],
      "execution_count": 6,
      "outputs": [
        {
          "output_type": "execute_result",
          "data": {
            "text/html": [
              "<div>\n",
              "<style scoped>\n",
              "    .dataframe tbody tr th:only-of-type {\n",
              "        vertical-align: middle;\n",
              "    }\n",
              "\n",
              "    .dataframe tbody tr th {\n",
              "        vertical-align: top;\n",
              "    }\n",
              "\n",
              "    .dataframe thead th {\n",
              "        text-align: right;\n",
              "    }\n",
              "</style>\n",
              "<table border=\"1\" class=\"dataframe\">\n",
              "  <thead>\n",
              "    <tr style=\"text-align: right;\">\n",
              "      <th></th>\n",
              "      <th>data</th>\n",
              "      <th>labels</th>\n",
              "    </tr>\n",
              "  </thead>\n",
              "  <tbody>\n",
              "    <tr>\n",
              "      <th>0</th>\n",
              "      <td>#include &lt;stdio.h&gt;\\n #include &lt;stdbool.h&gt;\\n \\n...</td>\n",
              "      <td>C</td>\n",
              "    </tr>\n",
              "    <tr>\n",
              "      <th>1</th>\n",
              "      <td>// Checking Palindrome number with Recursion\\n...</td>\n",
              "      <td>Java</td>\n",
              "    </tr>\n",
              "    <tr>\n",
              "      <th>2</th>\n",
              "      <td>/*\\n A program to find Greatest Common Divisor...</td>\n",
              "      <td>JavaScript</td>\n",
              "    </tr>\n",
              "    <tr>\n",
              "      <th>3</th>\n",
              "      <td>/* This algorithm will print the next greater ...</td>\n",
              "      <td>C-Plus-Plus</td>\n",
              "    </tr>\n",
              "    <tr>\n",
              "      <th>4</th>\n",
              "      <td>'''\\n Aim: To perform level-order traversal on...</td>\n",
              "      <td>Python</td>\n",
              "    </tr>\n",
              "  </tbody>\n",
              "</table>\n",
              "</div>"
            ],
            "text/plain": [
              "                                                data       labels\n",
              "0  #include <stdio.h>\\n #include <stdbool.h>\\n \\n...            C\n",
              "1  // Checking Palindrome number with Recursion\\n...         Java\n",
              "2  /*\\n A program to find Greatest Common Divisor...   JavaScript\n",
              "3  /* This algorithm will print the next greater ...  C-Plus-Plus\n",
              "4  '''\\n Aim: To perform level-order traversal on...       Python"
            ]
          },
          "metadata": {},
          "execution_count": 6
        }
      ]
    },
    {
      "cell_type": "code",
      "metadata": {
        "id": "UkSRaNSqbHg4"
      },
      "source": [
        "df = df.values"
      ],
      "execution_count": 7,
      "outputs": []
    },
    {
      "cell_type": "code",
      "metadata": {
        "id": "neCs7nqbbJxZ"
      },
      "source": [
        "X, Y = df.T[0], df.T[1]"
      ],
      "execution_count": 8,
      "outputs": []
    },
    {
      "cell_type": "markdown",
      "metadata": {
        "id": "cmo6KtwKbPnp"
      },
      "source": [
        "Vectorizing"
      ]
    },
    {
      "cell_type": "code",
      "metadata": {
        "colab": {
          "base_uri": "https://localhost:8080/"
        },
        "id": "4Q3h7w_0bUJt",
        "outputId": "5be23673-d023-42e0-b1eb-564086267d3c"
      },
      "source": [
        "vectorizer = CountVectorizer()\n",
        "X_vec = vectorizer.fit_transform(X)\n",
        "X_vec = X_vec.toarray()\n",
        "print(X_vec.shape)"
      ],
      "execution_count": 9,
      "outputs": [
        {
          "output_type": "stream",
          "name": "stdout",
          "text": [
            "(1933, 10916)\n"
          ]
        }
      ]
    },
    {
      "cell_type": "code",
      "metadata": {
        "colab": {
          "base_uri": "https://localhost:8080/"
        },
        "id": "TJ7ismYTbZCn",
        "outputId": "1568041e-72d2-4ba2-92fe-8cb5f8abdb6d"
      },
      "source": [
        "print(\"Dic Size:\", len(vectorizer.get_feature_names()))"
      ],
      "execution_count": 10,
      "outputs": [
        {
          "output_type": "stream",
          "name": "stdout",
          "text": [
            "Dic Size: 10916\n"
          ]
        }
      ]
    },
    {
      "cell_type": "markdown",
      "metadata": {
        "id": "UU8wRlYvbgil"
      },
      "source": [
        "Creating a KNN Classifier"
      ]
    },
    {
      "cell_type": "code",
      "metadata": {
        "colab": {
          "base_uri": "https://localhost:8080/"
        },
        "id": "sEmOsuTubfRE",
        "outputId": "f9a25ac9-355d-4a12-b438-b7df02652360"
      },
      "source": [
        "neigh = KNeighborsClassifier(n_neighbors=5)\n",
        "neigh.fit(X_vec[:int(0.8*len(Y))], Y[:int(0.8*len(Y))])"
      ],
      "execution_count": 11,
      "outputs": [
        {
          "output_type": "execute_result",
          "data": {
            "text/plain": [
              "KNeighborsClassifier(algorithm='auto', leaf_size=30, metric='minkowski',\n",
              "                     metric_params=None, n_jobs=None, n_neighbors=5, p=2,\n",
              "                     weights='uniform')"
            ]
          },
          "metadata": {},
          "execution_count": 11
        }
      ]
    },
    {
      "cell_type": "markdown",
      "metadata": {
        "id": "4tRCqTt5cBDi"
      },
      "source": [
        "# Measuring Performance"
      ]
    },
    {
      "cell_type": "markdown",
      "metadata": {
        "id": "leeaKU14cH33"
      },
      "source": [
        "Training"
      ]
    },
    {
      "cell_type": "code",
      "metadata": {
        "colab": {
          "base_uri": "https://localhost:8080/"
        },
        "id": "EdGtOqoNcTfp",
        "outputId": "c312e59d-356c-4387-ae54-7aae014487db"
      },
      "source": [
        "neigh.score(X_vec[:int(0.8*len(Y))], Y[:int(0.8*len(Y))])"
      ],
      "execution_count": 12,
      "outputs": [
        {
          "output_type": "execute_result",
          "data": {
            "text/plain": [
              "0.796248382923674"
            ]
          },
          "metadata": {},
          "execution_count": 12
        }
      ]
    },
    {
      "cell_type": "markdown",
      "metadata": {
        "id": "avpK_u_ScM_2"
      },
      "source": [
        "Valdidation"
      ]
    },
    {
      "cell_type": "code",
      "metadata": {
        "colab": {
          "base_uri": "https://localhost:8080/"
        },
        "id": "8k8XSWJAcUAR",
        "outputId": "d2077c1a-b549-4374-9a5a-a6518b4fa196"
      },
      "source": [
        "neigh.score(X_vec[int(0.8*len(Y)):], Y[int(0.8*len(Y)):])"
      ],
      "execution_count": 13,
      "outputs": [
        {
          "output_type": "execute_result",
          "data": {
            "text/plain": [
              "0.7390180878552972"
            ]
          },
          "metadata": {},
          "execution_count": 13
        }
      ]
    },
    {
      "cell_type": "code",
      "metadata": {
        "id": "BdOHfZ7mczzL"
      },
      "source": [
        ""
      ],
      "execution_count": null,
      "outputs": []
    }
  ]
}